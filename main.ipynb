{
  "nbformat": 4,
  "nbformat_minor": 0,
  "metadata": {
    "colab": {
      "provenance": [],
      "toc_visible": true,
      "authorship_tag": "ABX9TyNG7rn9TWC8uw73BnVufGRl",
      "include_colab_link": true
    },
    "kernelspec": {
      "name": "python3",
      "display_name": "Python 3"
    },
    "language_info": {
      "name": "python"
    }
  },
  "cells": [
    {
      "cell_type": "markdown",
      "metadata": {
        "id": "view-in-github",
        "colab_type": "text"
      },
      "source": [
        "<a href=\"https://colab.research.google.com/github/Magnus-github/car-img-scorer/blob/main/main.ipynb\" target=\"_parent\"><img src=\"https://colab.research.google.com/assets/colab-badge.svg\" alt=\"Open In Colab\"/></a>"
      ]
    },
    {
      "cell_type": "markdown",
      "source": [
        "# Car Image Scorer\n",
        "A deep learning network that predicts the quality of pictures of cars for the use of damage assessment.\n",
        "\n",
        "## Task\n",
        "The task is to train a deep learning model to predict whether certain parts of a car are clearly visible in a given image. The predicted score should lie between **0.0** and **1.0**, where a score of 0.0 indicates that the part is not visible and a score of 1.0 means that the car part is clearly visible and in good light.\n",
        "\n",
        "## Data\n",
        "The dataset consists of 4000 synthetic images of cars from different angles and perspectives. For each image scores indicating the visibility of the hood and the left back door of the car are given.\n",
        "\n"
      ],
      "metadata": {
        "id": "hg_t-M4YLVFD"
      }
    }
  ]
}